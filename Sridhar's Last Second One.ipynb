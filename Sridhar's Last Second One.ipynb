{
 "cells": [
  {
   "cell_type": "code",
   "execution_count": 6,
   "metadata": {},
   "outputs": [],
   "source": [
    "import ipywidgets as widgets"
   ]
  },
  {
   "cell_type": "code",
   "execution_count": 3,
   "metadata": {},
   "outputs": [
    {
     "data": {
      "application/vnd.jupyter.widget-view+json": {
       "model_id": "7b946bb3639244cea059c5623043de49",
       "version_major": 2,
       "version_minor": 0
      },
      "text/plain": [
       "IntSlider(value=40, max=70, min=30)"
      ]
     },
     "metadata": {},
     "output_type": "display_data"
    }
   ],
   "source": [
    "w = widgets.IntSlider(40,30,70)\n",
    "display(w)"
   ]
  },
  {
   "cell_type": "code",
   "execution_count": 5,
   "metadata": {},
   "outputs": [
    {
     "data": {
      "application/vnd.jupyter.widget-view+json": {
       "model_id": "3e10097404a544a583869ea1e4444049",
       "version_major": 2,
       "version_minor": 0
      },
      "text/plain": [
       "FloatSlider(value=7.5, description='Test:', max=10.0, min=5.0)"
      ]
     },
     "metadata": {},
     "output_type": "display_data"
    },
    {
     "data": {
      "text/plain": [
       "7.5"
      ]
     },
     "execution_count": 5,
     "metadata": {},
     "output_type": "execute_result"
    }
   ],
   "source": [
    "import ipywidgets as widgets\n",
    "j= widgets.FloatSlider(value=7.5,min=5.0,max=10,step=0.1,description='Test:')\n",
    "display(j)\n",
    "j.value"
   ]
  },
  {
   "cell_type": "code",
   "execution_count": 8,
   "metadata": {},
   "outputs": [
    {
     "data": {
      "application/vnd.jupyter.widget-view+json": {
       "model_id": "ea09aec66c4e45e0b1153681fbd79c09",
       "version_major": 2,
       "version_minor": 0
      },
      "text/plain": [
       "FloatSlider(value=7.5, description='Test:', max=10.0, min=5.0, orientation='vertical')"
      ]
     },
     "metadata": {},
     "output_type": "display_data"
    },
    {
     "data": {
      "text/plain": [
       "7.5"
      ]
     },
     "execution_count": 8,
     "metadata": {},
     "output_type": "execute_result"
    }
   ],
   "source": [
    "ho= widgets.FloatSlider(value=7.5,min=5.0,max=10,step=0.1,description='Test:',orientation='vertical')\n",
    "display(ho)\n",
    "ho.value"
   ]
  },
  {
   "cell_type": "code",
   "execution_count": 11,
   "metadata": {},
   "outputs": [
    {
     "data": {
      "application/vnd.jupyter.widget-view+json": {
       "model_id": "1e063aac10c641adb7e9fa1a7fe9efbc",
       "version_major": 2,
       "version_minor": 0
      },
      "text/plain": [
       "FloatProgress(value=5.0, description='Loading', max=10.0, min=1.0)"
      ]
     },
     "metadata": {},
     "output_type": "display_data"
    }
   ],
   "source": [
    "widgets.FloatProgress(value=5,min=1.0,max=10.0,step=0.1,description='Loading')"
   ]
  },
  {
   "cell_type": "code",
   "execution_count": 12,
   "metadata": {},
   "outputs": [
    {
     "data": {
      "application/vnd.jupyter.widget-view+json": {
       "model_id": "44374988b9764a8c9e70c79078910b4a",
       "version_major": 2,
       "version_minor": 0
      },
      "text/plain": [
       "interactive(children=(FloatSlider(value=0.0, description='x'), IntSlider(value=0, description='y'), Output()),…"
      ]
     },
     "metadata": {},
     "output_type": "display_data"
    },
    {
     "data": {
      "text/plain": [
       "<function __main__.f(x, y)>"
      ]
     },
     "execution_count": 12,
     "metadata": {},
     "output_type": "execute_result"
    }
   ],
   "source": [
    "def f(x,y):\n",
    "    print(x+y)\n",
    "widgets.interact(f,x=widgets.FloatSlider(),y=widgets.IntSlider())    "
   ]
  },
  {
   "cell_type": "code",
   "execution_count": 19,
   "metadata": {},
   "outputs": [
    {
     "data": {
      "application/vnd.jupyter.widget-view+json": {
       "model_id": "47abed20c2cb46ce88b6ddf1056cc1a5",
       "version_major": 2,
       "version_minor": 0
      },
      "text/plain": [
       "interactive(children=(FloatSlider(value=0.0, description='x'), IntSlider(value=0, description='y'), IntSlider(…"
      ]
     },
     "metadata": {},
     "output_type": "display_data"
    },
    {
     "data": {
      "text/plain": [
       "<function __main__.f(x, y, z)>"
      ]
     },
     "execution_count": 19,
     "metadata": {},
     "output_type": "execute_result"
    }
   ],
   "source": [
    "def f(x,y,z):\n",
    "    print(x**2+y**2+z**2)\n",
    "widgets.interact(f,x=widgets.FloatSlider(),y=widgets.IntSlider(),z=widgets.IntSlider())   "
   ]
  },
  {
   "cell_type": "code",
   "execution_count": 25,
   "metadata": {},
   "outputs": [
    {
     "data": {
      "application/vnd.jupyter.widget-view+json": {
       "model_id": "9d7d5b3b13bf41bb90196f7a5714ab94",
       "version_major": 2,
       "version_minor": 0
      },
      "text/plain": [
       "IntSlider(value=0)"
      ]
     },
     "metadata": {},
     "output_type": "display_data"
    },
    {
     "data": {
      "application/vnd.jupyter.widget-view+json": {
       "model_id": "f26e1187cf8e474dab72e459d2be14fd",
       "version_major": 2,
       "version_minor": 0
      },
      "text/plain": [
       "FloatSlider(value=0.0)"
      ]
     },
     "metadata": {},
     "output_type": "display_data"
    },
    {
     "data": {
      "application/vnd.jupyter.widget-view+json": {
       "model_id": "558dcfb8cfdf48f7a981d4d66d482837",
       "version_major": 2,
       "version_minor": 0
      },
      "text/plain": [
       "Button(description='submit', style=ButtonStyle())"
      ]
     },
     "metadata": {},
     "output_type": "display_data"
    }
   ],
   "source": [
    "def f(x,y):\n",
    "    print(x+y)\n",
    "x=widgets.IntSlider()\n",
    "y=widgets.FloatSlider()\n",
    "h=widgets.Button(description=\"submit\")\n",
    "\n",
    "\n",
    "def inet(self):\n",
    "    widgets.Interact(f,x=x,y=y)\n",
    "h.on_click(inet)\n",
    "display(x)\n",
    "display(y)\n",
    "display(h)"
   ]
  },
  {
   "cell_type": "code",
   "execution_count": 28,
   "metadata": {},
   "outputs": [
    {
     "data": {
      "application/vnd.jupyter.widget-view+json": {
       "model_id": "3a4588aa742e42328106aee0b835302e",
       "version_major": 2,
       "version_minor": 0
      },
      "text/plain": [
       "Button(description='greet', style=ButtonStyle())"
      ]
     },
     "metadata": {},
     "output_type": "display_data"
    },
    {
     "name": "stdout",
     "output_type": "stream",
     "text": [
      "hello\n"
     ]
    }
   ],
   "source": [
    "def greet(self):\n",
    "    print(\"hello\")\n",
    "h=widgets.Button(description='greet')\n",
    "display(h)\n",
    "h.on_click(greet)"
   ]
  },
  {
   "cell_type": "code",
   "execution_count": 30,
   "metadata": {},
   "outputs": [
    {
     "data": {
      "application/vnd.jupyter.widget-view+json": {
       "model_id": "591c49d911594805ad5c493901da3639",
       "version_major": 2,
       "version_minor": 0
      },
      "text/plain": [
       "IntSlider(value=0)"
      ]
     },
     "metadata": {},
     "output_type": "display_data"
    },
    {
     "data": {
      "application/vnd.jupyter.widget-view+json": {
       "model_id": "3d02d80576e1418886d5d33e6b8f84fb",
       "version_major": 2,
       "version_minor": 0
      },
      "text/plain": [
       "IntSlider(value=0)"
      ]
     },
     "metadata": {},
     "output_type": "display_data"
    },
    {
     "data": {
      "application/vnd.jupyter.widget-view+json": {
       "model_id": "c821461ad9d64562b5e2ff26248557e1",
       "version_major": 2,
       "version_minor": 0
      },
      "text/plain": [
       "IntSlider(value=0)"
      ]
     },
     "metadata": {},
     "output_type": "display_data"
    },
    {
     "data": {
      "application/vnd.jupyter.widget-view+json": {
       "model_id": "6b2b340d72ac4443a6434d690a585734",
       "version_major": 2,
       "version_minor": 0
      },
      "text/plain": [
       "Button(description='Submit', style=ButtonStyle())"
      ]
     },
     "metadata": {},
     "output_type": "display_data"
    },
    {
     "name": "stdout",
     "output_type": "stream",
     "text": [
      "1070.1951219512196\n",
      "264.3101550387597\n"
     ]
    }
   ],
   "source": [
    "x=widgets.IntSlider()\n",
    "y=widgets.IntSlider()\n",
    "z=widgets.IntSlider()\n",
    "k=widgets.Button(description='Submit')\n",
    "def eq1(self):\n",
    "    print(2*y.value+(8/x.value)+z.value**2)\n",
    "display(x)\n",
    "display(y)\n",
    "display(z)\n",
    "display(k)\n",
    "k.on_click(eq1)"
   ]
  },
  {
   "cell_type": "code",
   "execution_count": 37,
   "metadata": {},
   "outputs": [
    {
     "data": {
      "application/vnd.jupyter.widget-view+json": {
       "model_id": "15391a4dc86d4b5a9e325bc89d2f3fc5",
       "version_major": 2,
       "version_minor": 0
      },
      "text/plain": [
       "FloatSlider(value=0.0)"
      ]
     },
     "metadata": {},
     "output_type": "display_data"
    },
    {
     "data": {
      "application/vnd.jupyter.widget-view+json": {
       "model_id": "afcbfc6698de40018ca91ff6b31171e1",
       "version_major": 2,
       "version_minor": 0
      },
      "text/plain": [
       "FloatSlider(value=0.0)"
      ]
     },
     "metadata": {},
     "output_type": "display_data"
    },
    {
     "data": {
      "application/vnd.jupyter.widget-view+json": {
       "model_id": "a9229f2dc75c49ed895c55ef960b6443",
       "version_major": 2,
       "version_minor": 0
      },
      "text/plain": [
       "FloatSlider(value=0.0)"
      ]
     },
     "metadata": {},
     "output_type": "display_data"
    },
    {
     "data": {
      "application/vnd.jupyter.widget-view+json": {
       "model_id": "5a7a891d8433484698bb8636671937b7",
       "version_major": 2,
       "version_minor": 0
      },
      "text/plain": [
       "Button(description='Submit', style=ButtonStyle())"
      ]
     },
     "metadata": {},
     "output_type": "display_data"
    },
    {
     "name": "stdout",
     "output_type": "stream",
     "text": [
      "323.99265306122453\n"
     ]
    }
   ],
   "source": [
    "x=widgets.FloatSlider()\n",
    "y=widgets.FloatSlider()\n",
    "z=widgets.FloatSlider()\n",
    "k=widgets.Button(description='Submit')\n",
    "def eq1(self):\n",
    "    print(2*y.value+(8/x.value)+z.value**2)\n",
    "display(x)\n",
    "display(y)\n",
    "display(z)\n",
    "display(k)\n",
    "k.on_click(eq1)"
   ]
  },
  {
   "cell_type": "code",
   "execution_count": 38,
   "metadata": {},
   "outputs": [
    {
     "data": {
      "application/vnd.jupyter.widget-view+json": {
       "model_id": "9af7cdaa186d411194afe5125dcb03d5",
       "version_major": 2,
       "version_minor": 0
      },
      "text/plain": [
       "FloatSlider(value=0.1)"
      ]
     },
     "metadata": {},
     "output_type": "display_data"
    },
    {
     "data": {
      "application/vnd.jupyter.widget-view+json": {
       "model_id": "8c209a8e649b4433b3dbfdd222547775",
       "version_major": 2,
       "version_minor": 0
      },
      "text/plain": [
       "FloatSlider(value=0.2)"
      ]
     },
     "metadata": {},
     "output_type": "display_data"
    },
    {
     "data": {
      "application/vnd.jupyter.widget-view+json": {
       "model_id": "54d8f2fca51c4c31a1e914aa3f1fd72f",
       "version_major": 2,
       "version_minor": 0
      },
      "text/plain": [
       "FloatSlider(value=0.3)"
      ]
     },
     "metadata": {},
     "output_type": "display_data"
    },
    {
     "data": {
      "application/vnd.jupyter.widget-view+json": {
       "model_id": "907a4a9ad035488aa090d1d3fc3d6d8b",
       "version_major": 2,
       "version_minor": 0
      },
      "text/plain": [
       "Button(description='Submit', style=ButtonStyle())"
      ]
     },
     "metadata": {},
     "output_type": "display_data"
    },
    {
     "ename": "NameError",
     "evalue": "name 'a' is not defined",
     "output_type": "error",
     "traceback": [
      "\u001b[1;31m---------------------------------------------------------------------------\u001b[0m",
      "\u001b[1;31mNameError\u001b[0m                                 Traceback (most recent call last)",
      "\u001b[1;32m<ipython-input-38-5e3ca89ebc56>\u001b[0m in \u001b[0;36meq1\u001b[1;34m(self)\u001b[0m\n\u001b[0;32m      4\u001b[0m \u001b[0mk\u001b[0m\u001b[1;33m=\u001b[0m\u001b[0mwidgets\u001b[0m\u001b[1;33m.\u001b[0m\u001b[0mButton\u001b[0m\u001b[1;33m(\u001b[0m\u001b[0mdescription\u001b[0m\u001b[1;33m=\u001b[0m\u001b[1;34m'Submit'\u001b[0m\u001b[1;33m)\u001b[0m\u001b[1;33m\u001b[0m\u001b[1;33m\u001b[0m\u001b[0m\n\u001b[0;32m      5\u001b[0m \u001b[1;32mdef\u001b[0m \u001b[0meq1\u001b[0m\u001b[1;33m(\u001b[0m\u001b[0mself\u001b[0m\u001b[1;33m)\u001b[0m\u001b[1;33m:\u001b[0m\u001b[1;33m\u001b[0m\u001b[1;33m\u001b[0m\u001b[0m\n\u001b[1;32m----> 6\u001b[1;33m     \u001b[0mprint\u001b[0m\u001b[1;33m(\u001b[0m\u001b[1;36m1\u001b[0m\u001b[1;33m*\u001b[0m\u001b[0ma\u001b[0m\u001b[1;33m.\u001b[0m\u001b[0mvalue\u001b[0m\u001b[1;33m**\u001b[0m\u001b[1;36m3\u001b[0m\u001b[1;33m+\u001b[0m\u001b[0mb\u001b[0m\u001b[1;33m.\u001b[0m\u001b[0mvalue\u001b[0m\u001b[1;33m**\u001b[0m\u001b[1;36m2\u001b[0m\u001b[1;33m+\u001b[0m\u001b[0mc\u001b[0m\u001b[1;33m.\u001b[0m\u001b[0mvalue\u001b[0m\u001b[1;33m**\u001b[0m\u001b[1;36m4\u001b[0m\u001b[1;33m+\u001b[0m\u001b[0mz\u001b[0m\u001b[1;33m.\u001b[0m\u001b[0mvalue\u001b[0m\u001b[1;33m**\u001b[0m\u001b[1;33m(\u001b[0m\u001b[1;33m-\u001b[0m\u001b[1;36m2\u001b[0m\u001b[1;33m)\u001b[0m\u001b[1;33m)\u001b[0m\u001b[1;33m\u001b[0m\u001b[1;33m\u001b[0m\u001b[0m\n\u001b[0m\u001b[0;32m      7\u001b[0m \u001b[0mdisplay\u001b[0m\u001b[1;33m(\u001b[0m\u001b[0mx\u001b[0m\u001b[1;33m)\u001b[0m\u001b[1;33m\u001b[0m\u001b[1;33m\u001b[0m\u001b[0m\n\u001b[0;32m      8\u001b[0m \u001b[0mdisplay\u001b[0m\u001b[1;33m(\u001b[0m\u001b[0my\u001b[0m\u001b[1;33m)\u001b[0m\u001b[1;33m\u001b[0m\u001b[1;33m\u001b[0m\u001b[0m\n",
      "\u001b[1;31mNameError\u001b[0m: name 'a' is not defined"
     ]
    }
   ],
   "source": [
    "x=widgets.FloatSlider(value=0.1)\n",
    "y=widgets.FloatSlider(value=0.2)\n",
    "z=widgets.FloatSlider(value=0.3)\n",
    "k=widgets.Button(description='Submit')\n",
    "def eq1(self):\n",
    "    print(a.value**3+b.value**2+c.value**4+z.value**(-2))\n",
    "display(x)\n",
    "display(y)\n",
    "display(z)\n",
    "display(k)\n",
    "k.on_click(eq1)"
   ]
  },
  {
   "cell_type": "code",
   "execution_count": 41,
   "metadata": {},
   "outputs": [
    {
     "data": {
      "application/vnd.jupyter.widget-view+json": {
       "model_id": "8125139a0015426f87b5feace9063eef",
       "version_major": 2,
       "version_minor": 0
      },
      "text/plain": [
       "HBox(children=(FloatSlider(value=0.0), FloatSlider(value=0.0), FloatSlider(value=0.0), Button(description='Sub…"
      ]
     },
     "metadata": {},
     "output_type": "display_data"
    }
   ],
   "source": [
    "x=widgets.FloatSlider()\n",
    "y=widgets.FloatSlider()\n",
    "z=widgets.FloatSlider()\n",
    "k=widgets.Button(description='Submit')\n",
    "def eq1(self):\n",
    "    print(2*y.value+(8/x.value)+z.value**2)\n",
    "f=widgets.HBox([x,y,z,k])\n",
    "display(f)\n",
    "k.on_click(eq1)"
   ]
  },
  {
   "cell_type": "code",
   "execution_count": 40,
   "metadata": {},
   "outputs": [
    {
     "data": {
      "application/vnd.jupyter.widget-view+json": {
       "model_id": "22a6a3e4f05d482dbdcc736c5a5dc176",
       "version_major": 2,
       "version_minor": 0
      },
      "text/plain": [
       "VBox(children=(FloatSlider(value=0.0), FloatSlider(value=0.0), FloatSlider(value=0.0), Button(description='Sub…"
      ]
     },
     "metadata": {},
     "output_type": "display_data"
    }
   ],
   "source": [
    "x=widgets.FloatSlider()\n",
    "y=widgets.FloatSlider()\n",
    "z=widgets.FloatSlider()\n",
    "k=widgets.Button(description='Submit')\n",
    "def eq1(self):\n",
    "    print(2*y.value+(8/x.value)+z.value**2)\n",
    "f=widgets.VBox([x,y,z,k])\n",
    "display(f)\n",
    "k.on_click(eq1)"
   ]
  },
  {
   "cell_type": "code",
   "execution_count": 45,
   "metadata": {},
   "outputs": [
    {
     "data": {
      "application/vnd.jupyter.widget-view+json": {
       "model_id": "871e5147a14a4826913dcbc292e661a0",
       "version_major": 2,
       "version_minor": 0
      },
      "text/plain": [
       "Text(value='hello world', description='String')"
      ]
     },
     "metadata": {},
     "output_type": "display_data"
    }
   ],
   "source": [
    "h=widgets.Text(description='String',value='hello world')\n",
    "display(h)"
   ]
  },
  {
   "cell_type": "code",
   "execution_count": 52,
   "metadata": {},
   "outputs": [
    {
     "data": {
      "application/vnd.jupyter.widget-view+json": {
       "model_id": "00d55853f041429e98f144863c68b6c8",
       "version_major": 2,
       "version_minor": 0
      },
      "text/plain": [
       "Text(value='', description='Name')"
      ]
     },
     "metadata": {},
     "output_type": "display_data"
    },
    {
     "data": {
      "application/vnd.jupyter.widget-view+json": {
       "model_id": "0139c98438ae494face58e1e377f6fc2",
       "version_major": 2,
       "version_minor": 0
      },
      "text/plain": [
       "Button(description='greet', style=ButtonStyle())"
      ]
     },
     "metadata": {},
     "output_type": "display_data"
    }
   ],
   "source": [
    "y=widgets.Text(description='Name')\n",
    "def greet(self):\n",
    "    print(\"hello\"+str(y.value))\n",
    "h=widgets.Button(description=\"greet\")\n",
    "display(y)\n",
    "display(h)\n",
    "h.on_click(greet)"
   ]
  },
  {
   "cell_type": "code",
   "execution_count": 55,
   "metadata": {},
   "outputs": [
    {
     "data": {
      "application/vnd.jupyter.widget-view+json": {
       "model_id": "25aeda8ac1434f309547609d00989890",
       "version_major": 2,
       "version_minor": 0
      },
      "text/plain": [
       "RadioButtons(description='Pizza Topping:', options=('Pepperoni', 'Pineapple', 'Ancholives'), value='Pepperoni'…"
      ]
     },
     "metadata": {},
     "output_type": "display_data"
    }
   ],
   "source": [
    "widgets.RadioButtons(\n",
    "    description='Pizza Topping:',\n",
    "    options=['Pepperoni','Pineapple','Ancholives']\n",
    ")"
   ]
  },
  {
   "cell_type": "code",
   "execution_count": 61,
   "metadata": {},
   "outputs": [
    {
     "data": {
      "application/vnd.jupyter.widget-view+json": {
       "model_id": "4a16e799d42e488f9b507c4287b25569",
       "version_major": 2,
       "version_minor": 0
      },
      "text/plain": [
       "VBox(children=(HBox(children=(FloatSlider(value=0.0), FloatSlider(value=0.0), RadioButtons(description='Choose…"
      ]
     },
     "metadata": {},
     "output_type": "display_data"
    },
    {
     "name": "stdout",
     "output_type": "stream",
     "text": [
      "99.0\n",
      "2434.25\n",
      "-8.0\n"
     ]
    }
   ],
   "source": [
    "g=widgets.RadioButtons(description=\"Choose:\",options=[\"add\",\"sub\",\"multiply\"])\n",
    "j=widgets.Button(description=\"Submit\")\n",
    "k=widgets.FloatSlider()\n",
    "s=widgets.FloatSlider()\n",
    "d=widgets.VBox([widgets.HBox([k,s,g]),j])\n",
    "display(d)\n",
    "def eq(self):\n",
    "    if g.value==\"add\":\n",
    "        print(k.value+s.value)\n",
    "    elif g.value==\"sub\":\n",
    "        print(k.value-s.value)\n",
    "    elif g.value==\"multiply\":\n",
    "        print(k.value*s.value)\n",
    "j.on_click(eq)"
   ]
  },
  {
   "cell_type": "code",
   "execution_count": 68,
   "metadata": {},
   "outputs": [
    {
     "data": {
      "application/vnd.jupyter.widget-view+json": {
       "model_id": "6cddaf1cc26e42e0ab21bcf936871b53",
       "version_major": 2,
       "version_minor": 0
      },
      "text/plain": [
       "FloatText(value=0.0, description='Income')"
      ]
     },
     "metadata": {},
     "output_type": "display_data"
    },
    {
     "data": {
      "application/vnd.jupyter.widget-view+json": {
       "model_id": "d5f2f2ec8b04496bb54df40ef0792fab",
       "version_major": 2,
       "version_minor": 0
      },
      "text/plain": [
       "Button(description='Tax', style=ButtonStyle())"
      ]
     },
     "metadata": {},
     "output_type": "display_data"
    },
    {
     "name": "stdout",
     "output_type": "stream",
     "text": [
      "Tax Amount:0.125\n"
     ]
    }
   ],
   "source": [
    "I=widgets.FloatText(description=\"Income\")\n",
    "def it(self):\n",
    "    i=I.value/100000\n",
    "    if i>=0 and i<2.5:\n",
    "        z=i*0\n",
    "    elif i>2.5 and i<=5:\n",
    "        z=(i-2.5)*0.05\n",
    "    elif i>5 and i<=7.5:\n",
    "        z=(i-5)*0.1+(2.5)*0.05\n",
    "    elif i>7.5 and i<=10:\n",
    "        z=(i-7.5)*0.15+(5)*0.1+(2.5)*0.05\n",
    "    elif i>10 and i<=12.5:\n",
    "        z=(i-10)*0.2+(7.5)*0.15+(5)*0.1+(2.5)*0.05\n",
    "    elif i>12.5 and i<=15:\n",
    "        z=(i-12.5)*0.25+(10)*0.2+(7.5)*0.15+(5)*0.1+(2.50)*0.05\n",
    "    print(\"Tax Amount:\"+str(z))\n",
    "h=widgets.Button(description=\"Tax\")\n",
    "display(I)\n",
    "display(h)\n",
    "h.on_click(it)"
   ]
  },
  {
   "cell_type": "code",
   "execution_count": null,
   "metadata": {},
   "outputs": [],
   "source": []
  }
 ],
 "metadata": {
  "kernelspec": {
   "display_name": "Python 3",
   "language": "python",
   "name": "python3"
  },
  "language_info": {
   "codemirror_mode": {
    "name": "ipython",
    "version": 3
   },
   "file_extension": ".py",
   "mimetype": "text/x-python",
   "name": "python",
   "nbconvert_exporter": "python",
   "pygments_lexer": "ipython3",
   "version": "3.8.3"
  }
 },
 "nbformat": 4,
 "nbformat_minor": 4
}
